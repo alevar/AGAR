{
 "cells": [
  {
   "cell_type": "code",
   "execution_count": 24,
   "metadata": {},
   "outputs": [],
   "source": [
    "# this notebook is intended for exploration of the equivalence classes\n",
    "# computed by the gff2ec script\n",
    "import pandas as pd\n",
    "import numpy as np\n",
    "import os\n",
    "\n",
    "import matplotlib.pyplot as plt\n",
    "from matplotlib import animation\n",
    "import seaborn as sns\n",
    "from scipy import stats\n",
    "plt.rcParams['figure.figsize'] = (20.0, 10.0)\n",
    "plt.rcParams['font.family'] = \"serif\"\n",
    "%matplotlib inline"
   ]
  },
  {
   "cell_type": "code",
   "execution_count": 26,
   "metadata": {},
   "outputs": [
    {
     "data": {
      "text/html": [
       "<div>\n",
       "<style>\n",
       "    .dataframe thead tr:only-child th {\n",
       "        text-align: right;\n",
       "    }\n",
       "\n",
       "    .dataframe thead th {\n",
       "        text-align: left;\n",
       "    }\n",
       "\n",
       "    .dataframe tbody tr th {\n",
       "        vertical-align: top;\n",
       "    }\n",
       "</style>\n",
       "<table border=\"1\" class=\"dataframe\">\n",
       "  <thead>\n",
       "    <tr style=\"text-align: right;\">\n",
       "      <th></th>\n",
       "      <th>chrid</th>\n",
       "      <th>strand</th>\n",
       "      <th>start</th>\n",
       "      <th>end</th>\n",
       "      <th>count</th>\n",
       "      <th>gene</th>\n",
       "      <th>trans</th>\n",
       "    </tr>\n",
       "  </thead>\n",
       "  <tbody>\n",
       "    <tr>\n",
       "      <th>0</th>\n",
       "      <td>chr1</td>\n",
       "      <td>+</td>\n",
       "      <td>11874</td>\n",
       "      <td>12227</td>\n",
       "      <td>1</td>\n",
       "      <td>CHS.1</td>\n",
       "      <td>CHS.1.1</td>\n",
       "    </tr>\n",
       "    <tr>\n",
       "      <th>1</th>\n",
       "      <td>chr1</td>\n",
       "      <td>+</td>\n",
       "      <td>12613</td>\n",
       "      <td>12721</td>\n",
       "      <td>1</td>\n",
       "      <td>CHS.1</td>\n",
       "      <td>CHS.1.1</td>\n",
       "    </tr>\n",
       "    <tr>\n",
       "      <th>2</th>\n",
       "      <td>chr1</td>\n",
       "      <td>+</td>\n",
       "      <td>13221</td>\n",
       "      <td>14409</td>\n",
       "      <td>1</td>\n",
       "      <td>CHS.1</td>\n",
       "      <td>CHS.1.1</td>\n",
       "    </tr>\n",
       "    <tr>\n",
       "      <th>3</th>\n",
       "      <td>chr1</td>\n",
       "      <td>-</td>\n",
       "      <td>14362</td>\n",
       "      <td>14410</td>\n",
       "      <td>1</td>\n",
       "      <td>CHS.2</td>\n",
       "      <td>CHS.2.1</td>\n",
       "    </tr>\n",
       "    <tr>\n",
       "      <th>4</th>\n",
       "      <td>chr1</td>\n",
       "      <td>-</td>\n",
       "      <td>14410</td>\n",
       "      <td>14829</td>\n",
       "      <td>4</td>\n",
       "      <td>CHS.2</td>\n",
       "      <td>CHS.2.4;CHS.2.2;CHS.2.1;CHS.2.3</td>\n",
       "    </tr>\n",
       "  </tbody>\n",
       "</table>\n",
       "</div>"
      ],
      "text/plain": [
       "  chrid strand  start    end  count   gene                            trans\n",
       "0  chr1      +  11874  12227      1  CHS.1                          CHS.1.1\n",
       "1  chr1      +  12613  12721      1  CHS.1                          CHS.1.1\n",
       "2  chr1      +  13221  14409      1  CHS.1                          CHS.1.1\n",
       "3  chr1      -  14362  14410      1  CHS.2                          CHS.2.1\n",
       "4  chr1      -  14410  14829      4  CHS.2  CHS.2.4;CHS.2.2;CHS.2.1;CHS.2.3"
      ]
     },
     "execution_count": 26,
     "metadata": {},
     "output_type": "execute_result"
    }
   ],
   "source": [
    "ecCols = [\"chrid\",\"strand\",\"start\",\"end\",\"count\",\"gene\",\"trans\"]\n",
    "\n",
    "df = pd.read_csv(\"./chess2.2.ec\",sep=\"\\t\",names=ecCols)\n",
    "df.head()"
   ]
  },
  {
   "cell_type": "code",
   "execution_count": 27,
   "metadata": {
    "scrolled": true
   },
   "outputs": [
    {
     "name": "stdout",
     "output_type": "stream",
     "text": [
      "total number of transcripts: 106375\n"
     ]
    }
   ],
   "source": [
    "# first get all transcripts into a list\n",
    "transl = set()\n",
    "\n",
    "df.apply(lambda row: transl.update(row[\"trans\"].split(\";\")),axis=1)\n",
    "print(\"total number of transcripts: \"+str(len(transl)))"
   ]
  },
  {
   "cell_type": "code",
   "execution_count": 29,
   "metadata": {
    "scrolled": true
   },
   "outputs": [],
   "source": [
    "hist_res = [0 for x in range(1,df[\"count\"].max()+2)]\n",
    "\n",
    "min_len = 76\n",
    "df[\"len\"] = (df[\"end\"]+1)-df[\"start\"]\n",
    "uniq = set(df[(df[\"count\"]==1) & (df[\"len\"]>76)]['trans'])"
   ]
  },
  {
   "cell_type": "code",
   "execution_count": 30,
   "metadata": {},
   "outputs": [
    {
     "name": "stdout",
     "output_type": "stream",
     "text": [
      "number uniquely identifieable transcripts: 33010\n"
     ]
    }
   ],
   "source": [
    "print(\"number uniquely identifieable transcripts: \"+str(len(uniq)))"
   ]
  },
  {
   "cell_type": "code",
   "execution_count": 31,
   "metadata": {},
   "outputs": [
    {
     "name": "stdout",
     "output_type": "stream",
     "text": [
      "number of transcripts that share equivalence class with 1 other transcripts: 33010\n",
      "number of transcripts that share equivalence class with 2 other transcripts: 14781\n",
      "number of transcripts that share equivalence class with 3 other transcripts: 9450\n",
      "number of transcripts that share equivalence class with 4 other transcripts: 7081\n",
      "number of transcripts that share equivalence class with 5 other transcripts: 5643\n",
      "number of transcripts that share equivalence class with 6 other transcripts: 4608\n",
      "number of transcripts that share equivalence class with 7 other transcripts: 3996\n",
      "number of transcripts that share equivalence class with 8 other transcripts: 3332\n",
      "number of transcripts that share equivalence class with 9 other transcripts: 3340\n",
      "number of transcripts that share equivalence class with 10 other transcripts: 3078\n",
      "number of transcripts that share equivalence class with 11 other transcripts: 2490\n",
      "number of transcripts that share equivalence class with 12 other transcripts: 2353\n",
      "number of transcripts that share equivalence class with 13 other transcripts: 1749\n",
      "number of transcripts that share equivalence class with 14 other transcripts: 1640\n",
      "number of transcripts that share equivalence class with 15 other transcripts: 1313\n",
      "number of transcripts that share equivalence class with 16 other transcripts: 1135\n",
      "number of transcripts that share equivalence class with 17 other transcripts: 871\n",
      "number of transcripts that share equivalence class with 18 other transcripts: 910\n",
      "number of transcripts that share equivalence class with 19 other transcripts: 602\n",
      "number of transcripts that share equivalence class with 20 other transcripts: 559\n",
      "number of transcripts that share equivalence class with 21 other transcripts: 480\n",
      "number of transcripts that share equivalence class with 22 other transcripts: 404\n",
      "number of transcripts that share equivalence class with 23 other transcripts: 369\n",
      "number of transcripts that share equivalence class with 24 other transcripts: 418\n",
      "number of transcripts that share equivalence class with 25 other transcripts: 286\n",
      "number of transcripts that share equivalence class with 26 other transcripts: 270\n",
      "number of transcripts that share equivalence class with 27 other transcripts: 229\n",
      "number of transcripts that share equivalence class with 28 other transcripts: 139\n",
      "number of transcripts that share equivalence class with 29 other transcripts: 127\n",
      "number of transcripts that share equivalence class with 30 other transcripts: 190\n",
      "number of transcripts that share equivalence class with 31 other transcripts: 112\n",
      "number of transcripts that share equivalence class with 32 other transcripts: 119\n",
      "number of transcripts that share equivalence class with 33 other transcripts: 180\n",
      "number of transcripts that share equivalence class with 34 other transcripts: 54\n",
      "number of transcripts that share equivalence class with 35 other transcripts: 164\n",
      "number of transcripts that share equivalence class with 36 other transcripts: 51\n",
      "number of transcripts that share equivalence class with 37 other transcripts: 112\n",
      "number of transcripts that share equivalence class with 38 other transcripts: 75\n",
      "number of transcripts that share equivalence class with 39 other transcripts: 64\n",
      "number of transcripts that share equivalence class with 40 other transcripts: 81\n",
      "number of transcripts that share equivalence class with 41 other transcripts: 39\n",
      "number of transcripts that share equivalence class with 42 other transcripts: 32\n",
      "number of transcripts that share equivalence class with 43 other transcripts: 60\n",
      "number of transcripts that share equivalence class with 44 other transcripts: 17\n",
      "number of transcripts that share equivalence class with 45 other transcripts: 27\n",
      "number of transcripts that share equivalence class with 46 other transcripts: 14\n",
      "number of transcripts that share equivalence class with 47 other transcripts: 14\n",
      "number of transcripts that share equivalence class with 48 other transcripts: 3\n",
      "number of transcripts that share equivalence class with 49 other transcripts: 8\n",
      "number of transcripts that share equivalence class with 50 other transcripts: 60\n",
      "number of transcripts that share equivalence class with 51 other transcripts: 5\n",
      "number of transcripts that share equivalence class with 52 other transcripts: 11\n",
      "number of transcripts that share equivalence class with 53 other transcripts: 30\n",
      "number of transcripts that share equivalence class with 54 other transcripts: 4\n",
      "number of transcripts that share equivalence class with 55 other transcripts: 14\n",
      "number of transcripts that share equivalence class with 56 other transcripts: 19\n",
      "number of transcripts that share equivalence class with 57 other transcripts: 18\n",
      "number of transcripts that share equivalence class with 58 other transcripts: 6\n",
      "number of transcripts that share equivalence class with 59 other transcripts: 5\n",
      "number of transcripts that share equivalence class with 60 other transcripts: 8\n",
      "number of transcripts that share equivalence class with 61 other transcripts: 7\n",
      "number of transcripts that share equivalence class with 62 other transcripts: 4\n",
      "number of transcripts that share equivalence class with 63 other transcripts: 1\n",
      "number of transcripts that share equivalence class with 64 other transcripts: 1\n",
      "number of transcripts that share equivalence class with 65 other transcripts: 0\n",
      "number of transcripts that share equivalence class with 66 other transcripts: 0\n",
      "number of transcripts that share equivalence class with 67 other transcripts: 0\n",
      "number of transcripts that share equivalence class with 68 other transcripts: 1\n",
      "number of transcripts that share equivalence class with 69 other transcripts: 1\n",
      "number of transcripts that share equivalence class with 70 other transcripts: 0\n",
      "number of transcripts that share equivalence class with 71 other transcripts: 0\n",
      "number of transcripts that share equivalence class with 72 other transcripts: 0\n",
      "number of transcripts that share equivalence class with 73 other transcripts: 0\n",
      "number of transcripts that share equivalence class with 74 other transcripts: 0\n",
      "number of transcripts that share equivalence class with 75 other transcripts: 0\n"
     ]
    }
   ],
   "source": [
    "# compute the number of equivalence classes on next level, until no loci are left\n",
    "prev = set()\n",
    "hist_res = [0 for x in range(1,df[\"count\"].max()+2)]\n",
    "\n",
    "for i in range(1,df[\"count\"].max()+1,1):\n",
    "    cur_sub = df[(df[\"count\"]==i) & (df[\"len\"]>76)]\n",
    "    cur_full_set = set()\n",
    "    cur_sub.apply(lambda row: cur_full_set.update(row[\"trans\"].split(\";\")),axis=1)\n",
    "    cur_diff = cur_full_set - prev\n",
    "    prev = prev.union(cur_diff)\n",
    "    print(\"number of transcripts that share equivalence class with \"+str(i)+\" other transcripts: \"+str(len(cur_diff)))\n",
    "    hist_res[i] = len(cur_diff)"
   ]
  },
  {
   "cell_type": "code",
   "execution_count": 43,
   "metadata": {},
   "outputs": [
    {
     "data": {
      "text/plain": [
       "<Container object of 76 artists>"
      ]
     },
     "execution_count": 43,
     "metadata": {},
     "output_type": "execute_result"
    },
    {
     "data": {
      "image/png": "[encoded data removed]",
      "text/plain": [
       "<matplotlib.figure.Figure at 0x7fa3acfa3b00>"
      ]
     },
     "metadata": {},
     "output_type": "display_data"
    }
   ],
   "source": [
    "plt.bar(list(range(1,df[\"count\"].max()+2,1)),hist_res)"
   ]
  }
 ],
 "metadata": {
  "kernelspec": {
   "display_name": "Python 3",
   "language": "python",
   "name": "python3"
  },
  "language_info": {
   "codemirror_mode": {
    "name": "ipython",
    "version": 3
   },
   "file_extension": ".py",
   "mimetype": "text/x-python",
   "name": "python",
   "nbconvert_exporter": "python",
   "pygments_lexer": "ipython3",
   "version": "3.6.6"
  }
 },
 "nbformat": 4,
 "nbformat_minor": 2
}
