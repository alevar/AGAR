{
 "cells": [
  {
   "cell_type": "code",
   "execution_count": 1,
   "metadata": {},
   "outputs": [],
   "source": [
    "# compute equivalence classes based on a gff annotation\n",
    "import os"
   ]
  },
  {
   "cell_type": "code",
   "execution_count": 99,
   "metadata": {},
   "outputs": [],
   "source": [
    "inputFP = \"./test3.gff\""
   ]
  },
  {
   "cell_type": "code",
   "execution_count": 125,
   "metadata": {},
   "outputs": [],
   "source": [
    "def evaluate_interval(iv,oivs): # takes current interval and a sorted list of original intervals\n",
    "    for o in oivs:\n",
    "        if iv[1]>o[0] and o[1]>iv[0]:\n",
    "            return False\n",
    "    return True\n",
    "\n",
    "# TODO: need to use oivs to add information about which transcripts are shared by an equivalence class\n",
    "def process_locus(eps,oivs):\n",
    "    interval = []\n",
    "    res = []\n",
    "    for i,e in enumerate(eps): # iterate over and collect intervals\n",
    "        if len(interval)==2: # full interval found, can be evaluated and reset\n",
    "            if not (evaluate_interval(interval,oivs)):\n",
    "                res.append(interval)\n",
    "                tmp=interval[1]\n",
    "                if not e[0]==0:\n",
    "                    interval=[tmp,i]\n",
    "                else:\n",
    "                    interval=[tmp]\n",
    "            else:\n",
    "                tmp=interval[1]\n",
    "                if not e[0]==0:\n",
    "                    interval=[tmp,i]\n",
    "                else:\n",
    "                    interval=[tmp]\n",
    "        elif not e[0]==0:\n",
    "            interval.append(i)\n",
    "        else:\n",
    "            continue\n",
    "    if not (evaluate_interval(interval,oivs)):\n",
    "        res.append(interval)\n",
    "        \n",
    "    return res"
   ]
  },
  {
   "cell_type": "code",
   "execution_count": 131,
   "metadata": {},
   "outputs": [
    {
     "name": "stdout",
     "output_type": "stream",
     "text": [
      "[]\n",
      "[]\n",
      "[[0, 9], [19, 24], [24, 34], [34, 39], [39, 54], [54, 59]]\n",
      "[[11, 20], [30, 35], [35, 45], [45, 50], [50, 65], [65, 70]]\n",
      "[[1, {'t1'}], [0, set()], [0, set()], [0, set()], [0, set()], [0, set()], [0, set()], [0, set()], [0, set()], [1, {'t1'}], [0, set()], [0, set()], [0, set()], [0, set()], [0, set()], [0, set()], [0, set()], [0, set()], [0, set()], [1, {'t1'}], [0, set()], [0, set()], [0, set()], [0, set()], [1, {'t2'}], [0, set()], [0, set()], [0, set()], [0, set()], [0, set()], [0, set()], [0, set()], [0, set()], [0, set()], [1, {'t2'}], [0, set()], [0, set()], [0, set()], [0, set()], [1, {'t2'}], [0, set()], [0, set()], [0, set()], [0, set()], [0, set()], [0, set()], [0, set()], [0, set()], [0, set()], [0, set()], [0, set()], [0, set()], [0, set()], [0, set()], [1, {'t2'}], [0, set()], [0, set()], [0, set()], [0, set()], [1, {'t1'}]]\n",
      "========\n",
      "{(0, 9), (39, 54), (24, 34), (19, 59)}\n"
     ]
    }
   ],
   "source": [
    "endpoints=[]\n",
    "original_intervals = set() # these contain the transcript boundaries (without separation into exons and introns). \n",
    "# This is necessary in order to preserve splicejunction information whenver possible\n",
    "chrom = \"\"\n",
    "strand = \"+\"\n",
    "ls = 0 # locus start\n",
    "le = 0 # locus end\n",
    "geneID = \"\"\n",
    "ts = 0\n",
    "te = 0\n",
    "transID = \"\"\n",
    "transPar= \"\"\n",
    "\n",
    "with open(inputFP,\"r\") as gff:\n",
    "    for line in gff.readlines():\n",
    "        if(line[0]==\"#\"):\n",
    "            continue\n",
    "        else:\n",
    "            lineCols = line.split(\"\\t\")\n",
    "            if lineCols[2] == \"gene\":\n",
    "                final = process_locus(endpoints,original_intervals) # process the intervals computed for the previous locus\n",
    "                print(final)\n",
    "                final = [[x[0]+ls,x[1]+ls] for x in final]\n",
    "                print(final)\n",
    "                # get some basic information about the locus and initialize things\n",
    "                chrom = lineCols[0]\n",
    "                strand = lineCols[6]\n",
    "                ls = int(lineCols[3])\n",
    "                le = int(lineCols[4])\n",
    "                geneID = lineCols[8].strip().split(\"ID=\")[1].split(\";\")[0]\n",
    "                \n",
    "                endpoints=[[0,set()] for x in range(ls,le+1,1)]\n",
    "                \n",
    "            elif lineCols[2] == \"transcript\":\n",
    "                transID = lineCols[8].strip().split(\"ID=\")[1].split(\";\")[0]\n",
    "                transPar = lineCols[8].strip().split(\"Parent=\")[1].split(\";\")[0]\n",
    "                ts = int(lineCols[3])\n",
    "                te = int(lineCols[4])\n",
    "                \n",
    "                # add to original intervals\n",
    "#                 original_intervals.add((ts-1,te-1,))\n",
    "                \n",
    "            elif lineCols[2] == \"exon\":\n",
    "                parent = lineCols[8].strip().split(\"Parent=\")[1].split(\";\")[0]\n",
    "                start = int(lineCols[3])\n",
    "                end = int(lineCols[4])\n",
    "                endpoints[start-ls][0]+=1\n",
    "                endpoints[start-ls][1].add(parent)\n",
    "                endpoints[end-ls][0]+=1\n",
    "                endpoints[end-ls][1].add(parent)\n",
    "                \n",
    "                # add to original intervals\n",
    "                original_intervals.add((start-ls,end-ls,))\n",
    "            else:\n",
    "                continue\n",
    "                \n",
    "    final = process_locus(endpoints,original_intervals)\n",
    "    print(final)\n",
    "    final = [[x[0]+ls,x[1]+ls] for x in final]\n",
    "    print(final)\n",
    "    \n",
    "    print(endpoints)\n",
    "    print(\"========\")\n",
    "    print(original_intervals)"
   ]
  },
  {
   "cell_type": "code",
   "execution_count": 133,
   "metadata": {},
   "outputs": [
    {
     "name": "stdout",
     "output_type": "stream",
     "text": [
      "[1, {'t2'}] [1, {'t2'}]\n"
     ]
    }
   ],
   "source": [
    "print(endpoints[24],endpoints[34])"
   ]
  }
 ],
 "metadata": {
  "kernelspec": {
   "display_name": "Python 3",
   "language": "python",
   "name": "python3"
  },
  "language_info": {
   "codemirror_mode": {
    "name": "ipython",
    "version": 3
   },
   "file_extension": ".py",
   "mimetype": "text/x-python",
   "name": "python",
   "nbconvert_exporter": "python",
   "pygments_lexer": "ipython3",
   "version": "3.6.6"
  }
 },
 "nbformat": 4,
 "nbformat_minor": 2
}
