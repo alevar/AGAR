{
 "cells": [
  {
   "cell_type": "code",
   "execution_count": 1,
   "metadata": {},
   "outputs": [],
   "source": [
    "multifp = \"/home/varabyou/genomicData/hg38/refseq_vs_gencode.intersection.prot_lnc.no_altsIDX/db.multi\"\n",
    "\n",
    "max_locID = 0\n",
    "with open(multifp,\"r\") as infp:\n",
    "    for line in infp.readlines():\n",
    "        loci = set([int(x.split(\">\")[1].split(\"@\")[0]) for x in line.split(\"\\t\")])\n",
    "        for loc in loci:\n",
    "            if loc>max_locID:\n",
    "                max_locID=loc\n",
    "\n",
    "locs = [set() for x in range(max_locID+1)]\n",
    "\n",
    "count=0\n",
    "with open(multifp,\"r\") as infp:\n",
    "    for line in infp.readlines():\n",
    "        loci = set([int(x.split(\">\")[1].split(\"@\")[0]) for x in line.split(\"\\t\")])\n",
    "        for loc in loci:\n",
    "            for loc2 in loci:\n",
    "                if not loc == loc2:\n",
    "                    locs[loc].add(loc2)\n",
    "                \n",
    "outfp = open(\"./db.multiloc\",\"w+\")\n",
    "count=0\n",
    "for loc in locs:\n",
    "    if len(loc)>0:\n",
    "        outfp.write(str(count)+\"\\t\"+\",\".join([str(x) for x in loc])+\"\\n\")\n",
    "    count+=1\n",
    "outfp.close()"
   ]
  },
  {
   "cell_type": "code",
   "execution_count": null,
   "metadata": {},
   "outputs": [],
   "source": [
    "# logic for use of the index:\n",
    "# 1. get original tid\n",
    "# 2. get locus for that tid\n",
    "# 3. get pointer to the multimapping block for that locus\n",
    "# 4. search for the locus which contains the current start position of the read\n",
    "# 5. if multiple are found and are on opposite strand\n",
    "#   - ignore XS due to ambiguity\n",
    "\n",
    "# what is needed:\n",
    "# db.multiloc - linking loci\n",
    "# db.tgmap - find locus from original tid\n",
    "# db.glst - bounds of a locus\n",
    "\n",
    "# since glst does not contain chromosomes we also need tlst or \n",
    "# anything else to link chromosome information"
   ]
  }
 ],
 "metadata": {
  "kernelspec": {
   "display_name": "Python 3",
   "language": "python",
   "name": "python3"
  },
  "language_info": {
   "codemirror_mode": {
    "name": "ipython",
    "version": 3
   },
   "file_extension": ".py",
   "mimetype": "text/x-python",
   "name": "python",
   "nbconvert_exporter": "python",
   "pygments_lexer": "ipython3",
   "version": "3.7.3"
  }
 },
 "nbformat": 4,
 "nbformat_minor": 2
}
